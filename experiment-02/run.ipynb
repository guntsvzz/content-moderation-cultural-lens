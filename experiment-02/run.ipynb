{
 "cells": [
  {
   "cell_type": "code",
   "execution_count": 10,
   "metadata": {},
   "outputs": [],
   "source": [
    "import json\n",
    "\n",
    "def load_datasets(dataset_path):\n",
    "    # Initialize an empty list to store the data\n",
    "    all_data = []\n",
    "    # Reading a JSONL file\n",
    "    with open(dataset_path, 'r') as f:\n",
    "        for line in f:\n",
    "            # Parse the JSON object from each line\n",
    "            data = json.loads(line.strip())\n",
    "            # print(data)  # Process the data\n",
    "            all_data.append(data)\n",
    "            \n",
    "    return all_data"
   ]
  },
  {
   "cell_type": "code",
   "execution_count": 21,
   "metadata": {},
   "outputs": [
    {
     "data": {
      "text/plain": [
       "(list, 500)"
      ]
     },
     "execution_count": 21,
     "metadata": {},
     "output_type": "execute_result"
    }
   ],
   "source": [
    "json_datasets = load_datasets(dataset_path = \"datasets/500-cultural-multiple-choice-questions.jsonl\")\n",
    "type(json_datasets), len(json_datasets)"
   ]
  },
  {
   "cell_type": "code",
   "execution_count": 14,
   "metadata": {},
   "outputs": [
    {
     "data": {
      "text/plain": [
       "{'question': 'Which is a traditional pie that comes from the Netherlands?',\n",
       " 'options': [{'answer': 'Banketstaaf', 'isCorrect': False},\n",
       "  {'answer': 'Boerenjongens', 'isCorrect': False},\n",
       "  {'answer': 'Appeltaart', 'isCorrect': True},\n",
       "  {'answer': 'Oliebol', 'isCorrect': False}]}"
      ]
     },
     "execution_count": 14,
     "metadata": {},
     "output_type": "execute_result"
    }
   ],
   "source": [
    "json_datasets[2]"
   ]
  },
  {
   "cell_type": "code",
   "execution_count": 20,
   "metadata": {},
   "outputs": [
    {
     "data": {
      "text/plain": [
       "(list, 60134)"
      ]
     },
     "execution_count": 20,
     "metadata": {},
     "output_type": "execute_result"
    }
   ],
   "source": [
    "candle_datasets = load_datasets(dataset_path =  \"datasets/candle_dataset_v1.jsonl\")\n",
    "type(candle_datasets), len(candle_datasets)"
   ]
  },
  {
   "cell_type": "code",
   "execution_count": 19,
   "metadata": {},
   "outputs": [
    {
     "data": {
      "text/plain": [
       "(list, 167396)"
      ]
     },
     "execution_count": 19,
     "metadata": {},
     "output_type": "execute_result"
    }
   ],
   "source": [
    "mango_datasets = load_datasets(dataset_path =  \"datasets/mango_dataset_v1.jsonl\")\n",
    "type(mango_datasets), len(mango_datasets)"
   ]
  },
  {
   "cell_type": "code",
   "execution_count": 17,
   "metadata": {},
   "outputs": [
    {
     "data": {
      "text/plain": [
       "{'id': '633c4ebac1453e4c1c5cba85',\n",
       " 'assertion': 'Sailors tie lanyards onto knives, take pride in their ability to choose and tie knots, and store ropes neatly coiled.',\n",
       " 'domain': 'occupations',\n",
       " 'subject': 'sailor',\n",
       " 'facet': 'rituals',\n",
       " 'concepts': ['tie'],\n",
       " 'frequency': 1.0,\n",
       " 'distinctiveness': 1.0,\n",
       " 'specificity': 0.375,\n",
       " 'relevance': 0.8425915837287903,\n",
       " 'combined_score': 0.8043978959321976,\n",
       " 'raw_sentences': [{'text': 'Sailors of today still tie these elaborate box handles.',\n",
       "   'url': 'https://marlinspikeartist.com/products/'},\n",
       "  {'text': 'Sailors are expected to tie off all halyards in such fashion so as to eliminate slapping and clanging.',\n",
       "   'url': 'http://www.htownemarina.com/harbour-towne-marina-standards-of-conduct-and-safety/'},\n",
       "  {'text': 'Sailors tie lanyards onto knives.',\n",
       "   'url': 'http://www.alpharubicon.com/prepinfo/lanyardsrollinghitch.htm'},\n",
       "  {'text': 'Every sailor knows the importance of tying a good knot and so does the well-dressed man.',\n",
       "   'url': 'http://www.skipjackmarinegallery.com/nautical-knot-tie-in-burgundy-mens-nautical-neckwear.html'},\n",
       "  {'text': 'Good sailors take pride in their ability to chose and tie knots.',\n",
       "   'url': 'http://www.nairnsailingclub.co.uk/index.asp?pageid=78189'},\n",
       "  {'text': 'Cowgirls and sailors alike know the benefits of storing ropes neatly coiled.',\n",
       "   'url': 'http://www.bbcon.co.za/15-quick-fixes-to-make-around-your-house/'}]}"
      ]
     },
     "execution_count": 17,
     "metadata": {},
     "output_type": "execute_result"
    }
   ],
   "source": [
    "candle_datasets[0]"
   ]
  },
  {
   "cell_type": "code",
   "execution_count": 18,
   "metadata": {},
   "outputs": [
    {
     "data": {
      "text/plain": [
       "{'id': 'cluster_752_1604__4',\n",
       " 'concept': 'wedding',\n",
       " 'culture': 'Western cultures',\n",
       " 'assertion': 'In Western cultures, white wedding dresses and traditional vows are typical for weddings.',\n",
       " 'freq': 37,\n",
       " 'cluster': [{'id': 'chatcmpl-8IwdYhSMHwrd2RmvoMtRjwGzD3sz7_0_0_0_dist',\n",
       "   'concept': 'wedding',\n",
       "   'culture': 'Western countries',\n",
       "   'assertion': 'White dress for the bride',\n",
       "   'freq': 4},\n",
       "  {'id': 'chatcmpl-8IwdzIwNg7CdrHQCtGXqqumRgB02S_0_0_0_dist',\n",
       "   'concept': 'wedding',\n",
       "   'culture': 'Western countries',\n",
       "   'assertion': 'Traditional white wedding dresses',\n",
       "   'freq': 1},\n",
       "  {'id': 'chatcmpl-8Iwe1KvWaXGqecvFia6Uk8eHOpdYp_0_0_0_dist',\n",
       "   'concept': 'wedding',\n",
       "   'culture': 'Western cultures',\n",
       "   'assertion': 'White dress for the bride, traditional vows',\n",
       "   'freq': 1},\n",
       "  {'id': 'chatcmpl-8Iwe1LSdap9z6movNIJFcpXNQ9JnW_0_0_0_dist',\n",
       "   'concept': 'wedding',\n",
       "   'culture': 'Western culture',\n",
       "   'assertion': 'Brides wear white wedding gowns',\n",
       "   'freq': 1},\n",
       "  {'id': 'chatcmpl-8Iwe7skxom4raCyz9DF1yWdDjkqd1_3_0_0_dist',\n",
       "   'concept': 'wedding',\n",
       "   'culture': 'Western cultures',\n",
       "   'assertion': 'White wedding dresses are traditional',\n",
       "   'freq': 4},\n",
       "  {'id': 'chatcmpl-8IweBSzUIDOXpQw6HGBwrmoorLMu1_0_0_0_dist',\n",
       "   'concept': 'wedding',\n",
       "   'culture': 'Western countries',\n",
       "   'assertion': 'The bride wears a white dress.',\n",
       "   'freq': 1},\n",
       "  {'id': 'chatcmpl-8IweNNS9hUfpCYBJFQdqtjHeUc4MA_0_0_0_dist',\n",
       "   'concept': 'wedding',\n",
       "   'culture': 'western countries',\n",
       "   'assertion': 'White wedding dresses are traditional',\n",
       "   'freq': 3},\n",
       "  {'id': 'chatcmpl-8IwqE5dTLE7VkPKmL8TKXDyQZ8Bse_0_0_0_dist',\n",
       "   'concept': 'wedding',\n",
       "   'culture': 'Western countries',\n",
       "   'assertion': 'Often includes a white dress for the bride',\n",
       "   'freq': 1},\n",
       "  {'id': 'chatcmpl-8Iwqqu5M4Z2ro1r6ooqX3v7bbeZb5_0_0_0_dist',\n",
       "   'concept': 'wedding',\n",
       "   'culture': 'Western culture',\n",
       "   'assertion': 'White wedding dress is traditional',\n",
       "   'freq': 1},\n",
       "  {'id': 'chatcmpl-8IwqrWV988nmbygs78nnVwOio6tmU_0_0_0_dist',\n",
       "   'concept': 'wedding',\n",
       "   'culture': 'western countries',\n",
       "   'assertion': 'White wedding dresses are traditional in western countries',\n",
       "   'freq': 1},\n",
       "  {'id': 'chatcmpl-8IwqzBkr9lIstWXFWjqI6ulQheHHM_0_0_0_dist',\n",
       "   'concept': 'wedding',\n",
       "   'culture': 'Western societies',\n",
       "   'assertion': 'White is a traditional color for wedding dresses',\n",
       "   'freq': 1},\n",
       "  {'id': 'chatcmpl-8Iwrj4wMyGxdhhzHVg8CxZyRMMDkr_1_0_0_dist',\n",
       "   'concept': 'wedding',\n",
       "   'culture': 'Western countries',\n",
       "   'assertion': 'Often formal and white dress for the bride',\n",
       "   'freq': 1},\n",
       "  {'id': 'chatcmpl-8IwxP4yclMWPUvHrOozL0aBeEKK5U_2_0_0_dist',\n",
       "   'concept': 'wedding',\n",
       "   'culture': 'Western culture',\n",
       "   'assertion': 'White wedding dresses are traditionally worn by the bride',\n",
       "   'freq': 1},\n",
       "  {'id': 'chatcmpl-8Iwz84CIi77baZ4oA1qli1zZc0l6S_0_0_0_dist',\n",
       "   'concept': 'wedding',\n",
       "   'culture': 'Western cultures',\n",
       "   'assertion': 'White wedding dresses are traditional and common',\n",
       "   'freq': 1},\n",
       "  {'id': 'chatcmpl-8Ix21hMcFWhnfZ6vSKAAyOvWz3hg6_1_1_0_dist',\n",
       "   'concept': 'wedding',\n",
       "   'culture': 'Western cultures',\n",
       "   'assertion': 'May include a white dress for the bride and a formal ceremony',\n",
       "   'freq': 1},\n",
       "  {'id': 'chatcmpl-8Ix2Vm0msTBsNOhGDJrzdHK9VA6Af_0_0_0_dist',\n",
       "   'concept': 'wedding',\n",
       "   'culture': 'Western culture',\n",
       "   'assertion': 'Traditionally white dress for the bride',\n",
       "   'freq': 1},\n",
       "  {'id': 'chatcmpl-8Ix2mrnznwSfT79LTl11v2j59CowM_1_0_0_dist',\n",
       "   'concept': 'wedding',\n",
       "   'culture': 'Western culture',\n",
       "   'assertion': 'Bride usually wears a white dress',\n",
       "   'freq': 1},\n",
       "  {'id': 'chatcmpl-8Ix3U8uqPwgwrNPyznVmxKG7hTAGt_1_0_0_dist',\n",
       "   'concept': 'wedding',\n",
       "   'culture': 'Western cultures',\n",
       "   'assertion': 'White dress for the bride is traditional',\n",
       "   'freq': 1},\n",
       "  {'id': 'chatcmpl-8Ix5H5J85E3UZS1SqP3SlNWYpG8kQ_0_0_0_dist',\n",
       "   'concept': 'wedding',\n",
       "   'culture': 'Western culture',\n",
       "   'assertion': 'Commonly includes a white wedding dress and exchanging of vows',\n",
       "   'freq': 1},\n",
       "  {'id': 'chatcmpl-8Ix6guq67secKNU9fXmS0c1cJdV1L_0_0_0_dist',\n",
       "   'concept': 'wedding',\n",
       "   'culture': 'Western culture',\n",
       "   'assertion': 'White wedding dresses are traditional',\n",
       "   'freq': 2},\n",
       "  {'id': 'chatcmpl-8Ix73VyxREftG8weHntmmnaiLYWtO_0_0_0_dist',\n",
       "   'concept': 'wedding',\n",
       "   'culture': 'Western cultures',\n",
       "   'assertion': 'White is the traditional color for wedding dresses',\n",
       "   'freq': 1},\n",
       "  {'id': 'chatcmpl-8Ix7uGVABJ27DDvIzmOve4XPzCXuJ_0_0_0_dist',\n",
       "   'concept': 'wedding',\n",
       "   'culture': 'Western cultures',\n",
       "   'assertion': 'Typically includes a white dress for the bride',\n",
       "   'freq': 1},\n",
       "  {'id': 'chatcmpl-8Ix8J0T6WIYqG4p8Ne8fvM4H6CNk3_0_0_0_dist',\n",
       "   'concept': 'wedding',\n",
       "   'culture': 'Western culture',\n",
       "   'assertion': 'White is a traditional color for wedding dresses',\n",
       "   'freq': 1},\n",
       "  {'id': 'chatcmpl-8Ix8hpk2UykkyXNX0KaXrvqhDw7vK_0_0_0_dist',\n",
       "   'concept': 'wedding',\n",
       "   'culture': 'Western culture',\n",
       "   'assertion': 'White dress for the bride',\n",
       "   'freq': 1},\n",
       "  {'id': 'chatcmpl-8Ix9FoOlmdMnAECcF8Q2DeW17Y0zu_0_0_0_dist',\n",
       "   'concept': 'wedding',\n",
       "   'culture': 'western cultures',\n",
       "   'assertion': 'Traditional to wear a white dress',\n",
       "   'freq': 1},\n",
       "  {'id': 'chatcmpl-8Ix9hSda4CqEW3G9RVdz3EsMaLtjX_3_0_0_dist',\n",
       "   'concept': 'wedding',\n",
       "   'culture': 'Western culture',\n",
       "   'assertion': 'Bride wears a white dress',\n",
       "   'freq': 1},\n",
       "  {'id': 'chatcmpl-8IxAp07vNgcm7Apksbrg7wkGvlAc3_0_0_0_dist',\n",
       "   'concept': 'wedding',\n",
       "   'culture': 'Western cultures',\n",
       "   'assertion': 'White dress for the bride',\n",
       "   'freq': 1},\n",
       "  {'id': 'chatcmpl-8Ix7RJJqhJwB6hPq7ZA3fwVrcEQ8j_2_0_0_dist',\n",
       "   'concept': 'color weddings',\n",
       "   'culture': 'Western culture',\n",
       "   'assertion': 'The color white is commonly used for wedding dresses',\n",
       "   'freq': 1}]}"
      ]
     },
     "execution_count": 18,
     "metadata": {},
     "output_type": "execute_result"
    }
   ],
   "source": [
    "mango_datasets[0]"
   ]
  },
  {
   "cell_type": "code",
   "execution_count": null,
   "metadata": {},
   "outputs": [],
   "source": []
  }
 ],
 "metadata": {
  "kernelspec": {
   "display_name": "Python 3",
   "language": "python",
   "name": "python3"
  },
  "language_info": {
   "codemirror_mode": {
    "name": "ipython",
    "version": 3
   },
   "file_extension": ".py",
   "mimetype": "text/x-python",
   "name": "python",
   "nbconvert_exporter": "python",
   "pygments_lexer": "ipython3",
   "version": "3.9.6"
  }
 },
 "nbformat": 4,
 "nbformat_minor": 2
}
