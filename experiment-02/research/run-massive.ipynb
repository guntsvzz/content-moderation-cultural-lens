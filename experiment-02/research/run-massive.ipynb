{
 "cells": [
  {
   "cell_type": "code",
   "execution_count": 1,
   "metadata": {},
   "outputs": [],
   "source": [
    "import json\n",
    "import pickle\n",
    "import os\n",
    "import openai\n",
    "import urllib\n",
    "import requests\n",
    "import wikipedia\n",
    "\n",
    "def read_parsed_culture_info(\n",
    "    data_dir, \n",
    "    fpath=\"culture_scraped_info/culture_info_beta_Nov21.pkl\", \n",
    "    multi_ling=False\n",
    "    ):  \n",
    "    if os.path.exists(data_dir+fpath):\n",
    "        with open(data_dir+fpath, \"rb\") as f:\n",
    "            culture_results = pickle.load(f)\n",
    "        return culture_results\n",
    "    return {\"metadata\":{}}"
   ]
  },
  {
   "cell_type": "code",
   "execution_count": 2,
   "metadata": {},
   "outputs": [],
   "source": [
    "data_dir = \"../datasets/\"\n",
    "fname = \"culture_info_beta_Nov21.pkl\"\n",
    "scraped_data = read_parsed_culture_info(data_dir, fname) if fname is not None else read_parsed_culture_info()"
   ]
  },
  {
   "cell_type": "code",
   "execution_count": 8,
   "metadata": {},
   "outputs": [
    {
     "data": {
      "text/plain": [
       "dict_keys(['metadata', 'Afghanistan', 'Albania', 'Algeria', 'Andorra', 'Angola', 'Antigua and Barbuda', 'Argentina', 'Armenia', 'Australia', 'Austria', 'Azerbaijan', 'Bahamas', 'Bahrain', 'Bangladesh', 'Barbados', 'Belarus', 'Belgium', 'Belize', 'Benin', 'Bhutan', 'Plurinational State of Bolivia', 'Bosnia and Herzegovina', 'Botswana', 'Brazil', 'Brunei Darussalam', 'Bulgaria', 'Burkina Faso', 'Burundi', 'Cabo Verde', 'Cambodia', 'Cameroon', 'Canada', 'Central African Republic', 'Chad', 'Chile', 'China', 'Colombia', 'Comoros', 'Congo', 'Costa Rica', \"Côte d'Ivoire\", 'Croatia', 'Cuba', 'Cyprus', 'Czechia', \"Democratic People's Republic of Korea\", 'Democratic Republic of the Congo', 'Denmark', 'Djibouti', 'Dominica', 'Dominican Republic', 'Ecuador', 'Egypt', 'El Salvador', 'Equatorial Guinea', 'Eritrea', 'Estonia', 'Eswatini', 'Ethiopia', 'Fiji', 'Finland', 'France', 'Gabon', 'Gambia', 'Georgia', 'Germany', 'Ghana', 'Greece', 'Grenada', 'Guatemala', 'Guinea', 'Guinea-Bissau', 'Guyana', 'Haiti', 'Honduras', 'Hungary', 'Iceland', 'India', 'Indonesia', 'Islamic Republic of Iran', 'Iraq', 'Ireland', 'Israel', 'Italy', 'Jamaica', 'Japan', 'Jordan', 'Kazakhstan', 'Kenya', 'Kiribati', 'Kuwait', 'Kyrgyzstan', \"Lao People's Democratic Republic\", 'Latvia', 'Lebanon', 'Lesotho', 'Liberia', 'Libya', 'Liechtenstein', 'Lithuania', 'Luxembourg', 'Madagascar', 'Malawi', 'Malaysia', 'Maldives', 'Mali', 'Malta', 'Marshall Islands', 'Mauritania', 'Mauritius', 'Mexico', 'Federated States of Micronesia', 'Monaco', 'Mongolia', 'Montenegro', 'Morocco', 'Mozambique', 'Myanmar', 'Namibia', 'Nauru', 'Nepal', 'Netherlands', 'New Zealand', 'Nicaragua', 'Niger', 'Nigeria', 'North Macedonia', 'Norway', 'Oman', 'Pakistan', 'Palau', 'Panama', 'Papua New Guinea', 'Paraguay', 'Peru', 'Philippines', 'Poland', 'Portugal', 'Qatar', 'Republic of Korea', 'Republic of Moldova', 'Romania', 'Russian Federation', 'Rwanda', 'Saint Kitts and Nevis', 'Saint Lucia', 'Saint Vincent and the Grenadines', 'Samoa', 'San Marino', 'São Tomé and Príncipe', 'Saudi Arabia', 'Senegal', 'Serbia', 'Seychelles', 'Sierra Leone', 'Singapore', 'Slovakia', 'Slovenia', 'Solomon Islands', 'Somalia', 'South Africa', 'South Sudan', 'Spain', 'Sri Lanka', 'Sudan', 'Suriname', 'Sweden', 'Switzerland', 'Syrian Arab Republic', 'Tajikistan', 'Thailand', 'Timor-Leste', 'Togo', 'Tonga', 'Trinidad and Tobago', 'Tunisia', 'Türkiye', 'Turkmenistan', 'Tuvalu', 'Uganda', 'Ukraine', 'United Arab Emirates', 'United Kingdom of Great Britain and Northern Ireland', 'United Republic of Tanzania', 'United States of America', 'Uruguay', 'Uzbekistan', 'Vanuatu', 'Bolivarian Republic of Venezuela', 'Viet Nam', 'Yemen', 'Zambia', 'Zimbabwe', 'ethnic_and_religious_groups'])"
      ]
     },
     "execution_count": 8,
     "metadata": {},
     "output_type": "execute_result"
    }
   ],
   "source": [
    "scraped_data.keys()"
   ]
  },
  {
   "cell_type": "markdown",
   "metadata": {},
   "source": [
    "```\n",
    "Notes:\n",
    "- Intepretation of Data, Positive Samples corresponding to Arxiv Preprint Table 4\n",
    "  > Check out data/culture_scraped_info/culture_info_beta_Nov21.json\n",
    "    {\"metadata\": {\n",
    "        \"url1\": ..., \n",
    "        \"url2\": ...\n",
    "        }, \n",
    "     \"country1\": {\n",
    "        \"TopicI\": {\n",
    "           \"SubTopicJ\": {\n",
    "             \"SubSubTopicK -- Corresponding to a Wiki pg Title\": {\n",
    "                   {Scraped Info Per Wiki Document}\n",
    "               }, \n",
    "             \"SubSubTopicK' -- Corresponding to a Wiki pg Title\": {\n",
    "                   {Scraped Info Per Wiki Document}\n",
    "               },\n",
    "             }, \n",
    "           }\n",
    "        }, ...\n",
    "     \"countryZ\": {\n",
    "        }\n",
    "    }\n",
    "\n",
    "    So ppl may ask, what is inside the {Scraped Info Per Wiki Document}? We have:\n",
    "    'url'  # wiki url unique identifier\n",
    "    'tit'  # wiki page title\n",
    "    'summ'  # wiki page summary\n",
    "    'pg_content'  # wiki page textual content\n",
    "    'paragraphs_categorized'  # This contains sentence parsing per paragraph, and sentence categorization by BartMNLI-large\n",
    "    'norm_violation_rlv'  # a dictionary of each sentence of the pg document parsed as key, and \n",
    "                          # whether the sentence is norm violation relevant or not\n",
    "    'self_contain'  # a dictionary of each original sentence of the pg document parsed as key, and \n",
    "                    # and each processed version of the sentence made to be self-contained by prior \n",
    "                    # context to strip away ambiguity etc as value\n",
    "    'sent_profile_extracted'  # a dictionary of each original sentence of the pg document parsed as key, and \n",
    "                              # its extracted NormFrame profiling as value\n",
    "\n",
    "- This is work under submission; there will some updates/modifications in the final version\n",
    "- As such, we take a cautious approach of incremental release of data\n",
    "- In our initial release, we include the data pertaining to the cultural knowledge and norms pertaining to the English source of data\n",
    "  > Please refer to culture_scraped_info/ for the relevant document text, sentence parsing, categorization, and NormFrames\n",
    "  > Please refer to benchmark/ for the positive and negative samples used for true-or-false LLM evaluation setting\n",
    "    For this initial release of data, we released the CulturalAtlas_MiniSample, consisting of 10k positive samples and 5k negative samples\n",
    "    The intrinsic quality of the data reflects the distribution of our full dataset that is not yet released. Our full dataset will be released along with the final version of paper publication.\n",
    "\n",
    "Thank you for your interest in our work! If you find our resource or methodology helpful, feel free to cite our paper preprint. :)\n",
    "```"
   ]
  },
  {
   "cell_type": "code",
   "execution_count": 3,
   "metadata": {},
   "outputs": [
    {
     "data": {
      "text/plain": [
       "dict"
      ]
     },
     "execution_count": 3,
     "metadata": {},
     "output_type": "execute_result"
    }
   ],
   "source": [
    "type(scraped_data)"
   ]
  },
  {
   "cell_type": "code",
   "execution_count": 21,
   "metadata": {},
   "outputs": [],
   "source": [
    "# scraped_data['Thailand']['Culture']['Culture']"
   ]
  },
  {
   "cell_type": "code",
   "execution_count": 1,
   "metadata": {},
   "outputs": [],
   "source": [
    "# !pip list"
   ]
  },
  {
   "cell_type": "code",
   "execution_count": 5,
   "metadata": {},
   "outputs": [],
   "source": [
    "# openai==1.58.1\n",
    "# !pip install openai==0.28.0"
   ]
  },
  {
   "cell_type": "code",
   "execution_count": null,
   "metadata": {},
   "outputs": [],
   "source": []
  }
 ],
 "metadata": {
  "kernelspec": {
   "display_name": "Python 3",
   "language": "python",
   "name": "python3"
  },
  "language_info": {
   "codemirror_mode": {
    "name": "ipython",
    "version": 3
   },
   "file_extension": ".py",
   "mimetype": "text/x-python",
   "name": "python",
   "nbconvert_exporter": "python",
   "pygments_lexer": "ipython3",
   "version": "3.9.6"
  }
 },
 "nbformat": 4,
 "nbformat_minor": 2
}
