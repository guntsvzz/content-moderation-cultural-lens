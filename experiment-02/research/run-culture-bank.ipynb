{
 "cells": [
  {
   "cell_type": "code",
   "execution_count": 1,
   "metadata": {},
   "outputs": [],
   "source": [
    "from datasets import load_dataset\n",
    "\n",
    "ds = load_dataset(\"SALT-NLP/CultureBank\")"
   ]
  },
  {
   "cell_type": "code",
   "execution_count": 2,
   "metadata": {},
   "outputs": [
    {
     "name": "stdout",
     "output_type": "stream",
     "text": [
      "{'cultural group': 'American', 'context': 'in public', 'goal': None, 'relation': None, 'actor': 'people', 'actor_behavior': 'dress casually, often in comfortable clothing, with a preference for sweatpants and following dress codes', 'recipient': None, 'recipient_behavior': None, 'other_descriptions': None, 'topic': 'Dress Codes', 'agreement': 0.9, 'num_support_bin': '[1060, 1070)', 'time_range': \"{2021: '[180, 190)', 2022: '[600, 610)', 2023: '[270, 280)'}\", 'eval_whole_desc': 'In public settings within American culture, it is common for people to dress casually, often opting for comfortable clothing such as sweatpants while still adhering to dress codes. This relaxed approach to attire is widely regarded as the norm by a significant portion of the sampled population. It reflects a preference for comfort and practicality in daily dress, showcasing a relaxed and informal attitude towards clothing choices in various public settings.', 'eval_scenario': 'Travel Advising', 'eval_persona': 'A business professional from a formal corporate background, planning a first-time trip to the United States for a business conference, eager to blend in and avoid any potential faux pas', 'eval_question': \"I'm gearing up for a big conference in the States and I'm a bit worried about what to wear. I come from a formal work environment and I don't want to stand out in a negative way. Can you give me some tips on what kind of attire would be appropriate for a business setting over there? Should I be concerned about anything specific?\"}\n",
      "COUNTRY  : American\n",
      "SCENARIO : Travel Advising\n",
      "DESCRIPTION : In public settings within American culture, it is common for people to dress casually, often opting for comfortable clothing such as sweatpants while still adhering to dress codes. This relaxed approach to attire is widely regarded as the norm by a significant portion of the sampled population. It reflects a preference for comfort and practicality in daily dress, showcasing a relaxed and informal attitude towards clothing choices in various public settings.\n"
     ]
    }
   ],
   "source": [
    "limit = 5\n",
    "for sample in ds['tiktok'].select(range(limit)):\n",
    "    print(sample)\n",
    "    country = sample['cultural group']\n",
    "    scenario = sample['eval_scenario']\n",
    "    description = sample['eval_whole_desc']\n",
    "    print(f\"COUNTRY  : {country}\")\n",
    "    print(f\"SCENARIO : {scenario}\")\n",
    "    print(f\"DESCRIPTION : {description}\")\n",
    "    break"
   ]
  },
  {
   "cell_type": "code",
   "execution_count": null,
   "metadata": {},
   "outputs": [],
   "source": []
  }
 ],
 "metadata": {
  "kernelspec": {
   "display_name": "Python 3",
   "language": "python",
   "name": "python3"
  },
  "language_info": {
   "codemirror_mode": {
    "name": "ipython",
    "version": 3
   },
   "file_extension": ".py",
   "mimetype": "text/x-python",
   "name": "python",
   "nbconvert_exporter": "python",
   "pygments_lexer": "ipython3",
   "version": "3.9.6"
  }
 },
 "nbformat": 4,
 "nbformat_minor": 2
}
