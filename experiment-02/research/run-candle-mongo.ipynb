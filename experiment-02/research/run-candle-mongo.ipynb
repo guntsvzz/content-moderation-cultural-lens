{
 "cells": [
  {
   "cell_type": "code",
   "execution_count": 2,
   "metadata": {},
   "outputs": [],
   "source": [
    "import json\n",
    "\n",
    "def load_datasets(dataset_path):\n",
    "    # Initialize an empty list to store the data\n",
    "    all_data = []\n",
    "    # Reading a JSONL file\n",
    "    with open(dataset_path, 'r') as f:\n",
    "        for line in f:\n",
    "            # Parse the JSON object from each line\n",
    "            data = json.loads(line.strip())\n",
    "            # print(data)  # Process the data\n",
    "            all_data.append(data)\n",
    "            \n",
    "    return all_data"
   ]
  },
  {
   "cell_type": "code",
   "execution_count": 2,
   "metadata": {},
   "outputs": [
    {
     "data": {
      "text/plain": [
       "(list, 500)"
      ]
     },
     "execution_count": 2,
     "metadata": {},
     "output_type": "execute_result"
    }
   ],
   "source": [
    "json_datasets = load_datasets(dataset_path = \"../datasets/500-cultural-multiple-choice-questions.jsonl\")\n",
    "type(json_datasets), len(json_datasets)"
   ]
  },
  {
   "cell_type": "code",
   "execution_count": 3,
   "metadata": {},
   "outputs": [
    {
     "data": {
      "text/plain": [
       "{'question': 'Which is a traditional pie that comes from the Netherlands?',\n",
       " 'options': [{'answer': 'Banketstaaf', 'isCorrect': False},\n",
       "  {'answer': 'Boerenjongens', 'isCorrect': False},\n",
       "  {'answer': 'Appeltaart', 'isCorrect': True},\n",
       "  {'answer': 'Oliebol', 'isCorrect': False}]}"
      ]
     },
     "execution_count": 3,
     "metadata": {},
     "output_type": "execute_result"
    }
   ],
   "source": [
    "json_datasets[2]"
   ]
  },
  {
   "cell_type": "code",
   "execution_count": 3,
   "metadata": {},
   "outputs": [
    {
     "data": {
      "text/plain": [
       "(list, 60134)"
      ]
     },
     "execution_count": 3,
     "metadata": {},
     "output_type": "execute_result"
    }
   ],
   "source": [
    "candle_datasets = load_datasets(dataset_path =  \"../datasets/candle_dataset_v1.jsonl\")\n",
    "type(candle_datasets), len(candle_datasets)"
   ]
  },
  {
   "cell_type": "code",
   "execution_count": 4,
   "metadata": {},
   "outputs": [
    {
     "data": {
      "text/plain": [
       "(list, 167396)"
      ]
     },
     "execution_count": 4,
     "metadata": {},
     "output_type": "execute_result"
    }
   ],
   "source": [
    "mango_datasets = load_datasets(dataset_path =  \"../datasets/mango_dataset_v1.jsonl\")\n",
    "type(mango_datasets), len(mango_datasets)"
   ]
  },
  {
   "cell_type": "code",
   "execution_count": 12,
   "metadata": {},
   "outputs": [
    {
     "data": {
      "text/plain": [
       "{'id': '633c4688c1453e4c1c5ca97d',\n",
       " 'assertion': 'Unit clerks in hospitals play a vital role in helping the hospital run smoothly and provide the best possible care.',\n",
       " 'domain': 'occupations',\n",
       " 'subject': 'clerk',\n",
       " 'facet': 'rituals',\n",
       " 'concepts': ['routine', 'office'],\n",
       " 'frequency': 0.4,\n",
       " 'distinctiveness': 1.0,\n",
       " 'specificity': 0.3181818181818182,\n",
       " 'relevance': 0.8204296603798866,\n",
       " 'combined_score': 0.6346528696404262,\n",
       " 'raw_sentences': [{'text': 'General office clerks type, format, or edit routine memos.',\n",
       "   'url': 'https://www.bls.gov/ooh/office-and-administrative-support/general-office-clerks.htm'},\n",
       "  {'text': 'Hospital unit clerks play a vital role in helping the hospital routine run smoothly and provide the best possible care.',\n",
       "   'url': 'https://bowvalleycollege.ca/programs-courses/business/hospital-unit-clerk-certificate'},\n",
       "  {'text': 'Information clerks perform routine office support functions in an organization, business, or government.',\n",
       "   'url': 'https://collegegrad.com/careers/information-clerks'},\n",
       "  {'text': 'Nurses, ward clerks and consultants have established relationships and expectations.',\n",
       "   'url': 'https://www.gha2.net.au/GMWP/Content/Testimonials'},\n",
       "  {'text': 'As important helpers, unit clerks carry out instructions from doctors and others on staff.',\n",
       "   'url': 'https://www.jobhero.com/unit-clerk-job-description/'},\n",
       "  {'text': 'Information clerks perform routine office functions in a business, government, or organization.',\n",
       "   'url': 'https://www.yourfreecareertest.com/information-clerk/'},\n",
       "  {'text': 'G. May organize and co-ordinate flow of work for general office clerks and data entry clerks.',\n",
       "   'url': 'https://studentscholarships.org/salary_ca/8/administrative_clerks.php'},\n",
       "  {'text': 'Stenographers, Clerks & Typists Carry on routine office duties.',\n",
       "   'url': 'https://www.avjobs.com/careers/detail.asp?Job_Title=Aeronautics+Department+or+Commission&Category=State+Government&Related=Aviation+Careers&RecID=130'}]}"
      ]
     },
     "execution_count": 12,
     "metadata": {},
     "output_type": "execute_result"
    }
   ],
   "source": [
    "candle_datasets[4]"
   ]
  },
  {
   "cell_type": "code",
   "execution_count": 22,
   "metadata": {},
   "outputs": [
    {
     "data": {
      "text/plain": [
       "{'id': 'cluster_752_1323__0',\n",
       " 'concept': 'weddings',\n",
       " 'culture': 'Indian',\n",
       " 'assertion': 'Indian weddings are elaborate, multi-day celebrations with colorful attire, traditional rituals, and vibrant ceremonies.',\n",
       " 'freq': 25,\n",
       " 'cluster': [{'id': 'chatcmpl-8IwdY9uHdriqoqpSNU4Rl48cLNc9y_0_0_0_dist',\n",
       "   'concept': 'wedding',\n",
       "   'culture': 'Indian',\n",
       "   'assertion': 'Weddings are elaborate, multi-day celebrations involving many rituals and ceremonies.',\n",
       "   'freq': 1},\n",
       "  {'id': 'chatcmpl-8IwxmJLwMbAX3msTA6rV4smC5mdZp_1_0_0_dist',\n",
       "   'concept': 'wedding',\n",
       "   'culture': 'Indian',\n",
       "   'assertion': 'Weddings are elaborate multi-day celebrations with various ceremonies, colorful attire, and traditional rituals specific to different regions.',\n",
       "   'freq': 1},\n",
       "  {'id': 'chatcmpl-8Iwy11TCwhSchnIw6qwUBvUbbiGdw_3_0_1_dist',\n",
       "   'concept': 'wedding',\n",
       "   'culture': 'Indian',\n",
       "   'assertion': 'Arranged marriages are not uncommon.',\n",
       "   'freq': 1},\n",
       "  {'id': 'chatcmpl-8IwzOJ0vtHEsn8GqwtgxFC0zHQI9W_3_0_0_dist',\n",
       "   'concept': 'wedding',\n",
       "   'culture': 'Indian culture',\n",
       "   'assertion': 'Indian weddings are often multi-day celebrations with various rituals and ceremonies',\n",
       "   'freq': 1},\n",
       "  {'id': 'chatcmpl-8Ix2SBGRNMGZKgHhHP24Ic7Ik5vsV_1_0_0_dist',\n",
       "   'concept': 'wedding',\n",
       "   'culture': 'Indian',\n",
       "   'assertion': 'Elaborate multi-day celebrations with various rituals',\n",
       "   'freq': 1},\n",
       "  {'id': 'chatcmpl-8Ix2mcdoaC1JbXn5cPCKCX150oLsV_0_1_0_dist',\n",
       "   'concept': 'wedding',\n",
       "   'culture': 'Indian',\n",
       "   'assertion': 'Weddings often involve multi-day celebrations with various ceremonies and rituals.',\n",
       "   'freq': 1},\n",
       "  {'id': 'chatcmpl-8Ix5H5J85E3UZS1SqP3SlNWYpG8kQ_0_1_0_dist',\n",
       "   'concept': 'wedding',\n",
       "   'culture': 'Indian culture',\n",
       "   'assertion': 'May involve multiple days of celebrations with traditional rituals and vibrant attire',\n",
       "   'freq': 1},\n",
       "  {'id': 'chatcmpl-8IwsqF3s7SK31WrsBtNHvly1DTUOr_4_1_0_dist',\n",
       "   'concept': 'weddings',\n",
       "   'culture': 'Indian',\n",
       "   'assertion': 'Colorful and elaborate multi-day wedding ceremonies',\n",
       "   'freq': 1},\n",
       "  {'id': 'chatcmpl-8Ix2DNmCB9eKlH45FzWgVHQcu84E9_2_1_0_dist',\n",
       "   'concept': 'weddings',\n",
       "   'culture': 'Indian',\n",
       "   'assertion': 'Can be elaborate events with intricate rituals, colorful garments, and vibrant decorations',\n",
       "   'freq': 1},\n",
       "  {'id': 'chatcmpl-8Ix4JKNlKWnKLtuPp8gbSwOoZKNNk_2_1_0_dist',\n",
       "   'concept': 'weddings',\n",
       "   'culture': 'Indian culture',\n",
       "   'assertion': 'Weddings are elaborate and vibrant, but the focus is more on celebrating the union of families and socializing rather than dramatic conflicts.',\n",
       "   'freq': 1},\n",
       "  {'id': 'chatcmpl-8Ix87KX1n2F8v2QBpJJkuasEDyZVK_3_0_0_dist',\n",
       "   'concept': 'weddings',\n",
       "   'culture': 'Indian',\n",
       "   'assertion': 'Weddings in India are elaborate and can last for several days, involving various rituals and ceremonies',\n",
       "   'freq': 1},\n",
       "  {'id': 'chatcmpl-8IgmnTWAiQxB7gCiZj5E5FoF0bYnY_0_1_0_dist',\n",
       "   'concept': 'wedding',\n",
       "   'culture': 'Indian culture',\n",
       "   'assertion': 'Often includes colorful traditional attire, several days of celebrations, and intricate rituals',\n",
       "   'freq': 1},\n",
       "  {'id': 'chatcmpl-8Ih1f9RyS7Fk4sADKXKJtzRPe1bqb_0_1_0_dist',\n",
       "   'concept': 'wedding',\n",
       "   'culture': 'Indian culture',\n",
       "   'assertion': 'Weddings are elaborate, multi-day celebrations with intricate rituals, vibrant attire, and traditional music and dance.',\n",
       "   'freq': 1},\n",
       "  {'id': 'chatcmpl-8Ihk7foW4N7y5aZbRAKFotS8OUeCT_0_1_0_dist',\n",
       "   'concept': 'wedding',\n",
       "   'culture': 'Indian culture',\n",
       "   'assertion': 'Arranged marriages are common',\n",
       "   'freq': 1},\n",
       "  {'id': 'chatcmpl-8Ih33DjKeMnFiVB1UBd3pC5hFd2W4_0_1_0_dist',\n",
       "   'concept': 'wedding day',\n",
       "   'culture': 'Indian culture',\n",
       "   'assertion': 'The wedding ceremony often includes intricate and colorful traditional attire, with rituals and ceremonies lasting for several days.',\n",
       "   'freq': 1},\n",
       "  {'id': 'chatcmpl-8IhG0QfADf5hCjOkr3y2Lp8vaBoOx_0_1_0_dist',\n",
       "   'concept': 'wedding day',\n",
       "   'culture': 'Indian culture',\n",
       "   'assertion': 'Extensive multi-day celebration involving complex rituals and ceremonies',\n",
       "   'freq': 1},\n",
       "  {'id': 'chatcmpl-8IhlIkzpHLd0YMSCtwupOiktrXAON_0_1_0_dist',\n",
       "   'concept': 'wedding day',\n",
       "   'culture': 'Indian culture',\n",
       "   'assertion': 'Considered auspicious if held on specific dates according to astrology, such as during certain planetary alignments.',\n",
       "   'freq': 1},\n",
       "  {'id': 'chatcmpl-8IkaYj9rurI7bUTTMx5SaUyhQ0h7H_0_1_0_dist',\n",
       "   'concept': 'wedding reception',\n",
       "   'culture': 'Indian culture',\n",
       "   'assertion': 'May involve elaborate decorations, traditional music and dances, and the serving of a wide variety of vegetarian and non-vegetarian dishes',\n",
       "   'freq': 1},\n",
       "  {'id': 'chatcmpl-8IkeHWdPQi79coiWDoh4YerqiBhiC_0_1_0_dist',\n",
       "   'concept': 'wedding reception',\n",
       "   'culture': 'Indian culture',\n",
       "   'assertion': 'Often involves lavish feasts, vibrant music and dancing, and intricate ceremonies',\n",
       "   'freq': 2},\n",
       "  {'id': 'chatcmpl-8IkhspzV8ZCmFri3D3qiD6vAWfYuT_0_1_0_dist',\n",
       "   'concept': 'wedding reception',\n",
       "   'culture': 'Indian culture',\n",
       "   'assertion': 'Wedding reception may involve multiple days of elaborate ceremonies and feasting with hundreds of guests.',\n",
       "   'freq': 1},\n",
       "  {'id': 'chatcmpl-8IklQ0DUlwkcs6ocHFGtatNP5ECVG_0_1_0_dist',\n",
       "   'concept': 'wedding reception',\n",
       "   'culture': 'Indian culture',\n",
       "   'assertion': \"In Indian culture, wedding reception often involves elaborate traditional ceremonies, including the ritual of 'saptapadi' where the couple takes seven steps around a sacred fire.\",\n",
       "   'freq': 1},\n",
       "  {'id': 'chatcmpl-8IkoCWCbjAJmkxCCJtdspXTzc59ms_0_1_0_dist',\n",
       "   'concept': 'wedding reception',\n",
       "   'culture': 'Indian culture',\n",
       "   'assertion': 'The wedding reception involves a large feast with traditional Indian cuisine, music, and dancing, and can last long into the night.',\n",
       "   'freq': 1},\n",
       "  {'id': 'chatcmpl-8JMi0fQkLQm4avY8hYUZCJIDuK5wp_0_1_0_dist',\n",
       "   'concept': 'wedding food',\n",
       "   'culture': 'Indian culture',\n",
       "   'assertion': 'In Indian weddings, a variety of vegetarian dishes, such as paneer tikka and mixed vegetable curry, are commonly served alongside non-vegetarian options.',\n",
       "   'freq': 1},\n",
       "  {'id': 'chatcmpl-8JNDMxDMFjBlfBVJ8iPezIpIn7Zkw_2_0_0_dist',\n",
       "   'concept': 'wedding banquet',\n",
       "   'culture': 'Indian countries',\n",
       "   'assertion': 'Includes a variety of traditional food and desserts, and can involve a significant amount of guest participation in ceremonial rituals and blessings',\n",
       "   'freq': 1}]}"
      ]
     },
     "execution_count": 22,
     "metadata": {},
     "output_type": "execute_result"
    }
   ],
   "source": [
    "mango_datasets[9]"
   ]
  },
  {
   "cell_type": "code",
   "execution_count": null,
   "metadata": {},
   "outputs": [],
   "source": []
  }
 ],
 "metadata": {
  "kernelspec": {
   "display_name": "Python 3",
   "language": "python",
   "name": "python3"
  },
  "language_info": {
   "codemirror_mode": {
    "name": "ipython",
    "version": 3
   },
   "file_extension": ".py",
   "mimetype": "text/x-python",
   "name": "python",
   "nbconvert_exporter": "python",
   "pygments_lexer": "ipython3",
   "version": "3.9.6"
  }
 },
 "nbformat": 4,
 "nbformat_minor": 2
}
